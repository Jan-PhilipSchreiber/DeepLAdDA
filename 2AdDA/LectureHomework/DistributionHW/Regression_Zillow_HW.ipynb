{
 "cells": [
  {
   "cell_type": "code",
   "execution_count": 17,
   "metadata": {},
   "outputs": [],
   "source": [
    "import pandas as pd\n",
    "import numpy as np\n",
    "import keras\n",
    "from keras import layers\n",
    "from sklearn.preprocessing import OneHotEncoder, LabelEncoder\n",
    "import tensorflow as tf\n",
    "import phik\n",
    "import seaborn as sns\n",
    "import matplotlib.pyplot as plt"
   ]
  },
  {
   "cell_type": "code",
   "execution_count": 18,
   "metadata": {},
   "outputs": [],
   "source": [
    "from imblearn.under_sampling import RandomUnderSampler\n",
    "import seaborn as sns\n",
    "from ctgan import CTGAN\n",
    "from sklearn.preprocessing import KBinsDiscretizer\n",
    "from collections import Counter\n",
    "from imblearn.over_sampling import SMOTE, ADASYN\n",
    "pd.set_option('display.float_format', '{:.2f}'.format)"
   ]
  },
  {
   "cell_type": "markdown",
   "metadata": {},
   "source": [
    "<h1>Fixing the Regression</h1>\n"
   ]
  },
  {
   "cell_type": "markdown",
   "metadata": {},
   "source": [
    "<b>Summary from the report</b>\n",
    "<ul>\n",
    "<li>Remove from the List</li>\n",
    "<li>Cap the outliers, especially for the 6 focused on columns</li>\n",
    "<li>Next Homework, fix distribution with synthetic Data for the ones where autovizviz, ydata and SHAP say the importance is higher (only for the kept columns, maybe redo all the reports with the cut down data)</li>\n",
    "</ul>"
   ]
  },
  {
   "cell_type": "code",
   "execution_count": 19,
   "metadata": {},
   "outputs": [
    {
     "data": {
      "text/html": [
       "<div>\n",
       "<style scoped>\n",
       "    .dataframe tbody tr th:only-of-type {\n",
       "        vertical-align: middle;\n",
       "    }\n",
       "\n",
       "    .dataframe tbody tr th {\n",
       "        vertical-align: top;\n",
       "    }\n",
       "\n",
       "    .dataframe thead th {\n",
       "        text-align: right;\n",
       "    }\n",
       "</style>\n",
       "<table border=\"1\" class=\"dataframe\">\n",
       "  <thead>\n",
       "    <tr style=\"text-align: right;\">\n",
       "      <th></th>\n",
       "      <th>longitude</th>\n",
       "      <th>countyFIPS</th>\n",
       "      <th>monthlyHoaFee</th>\n",
       "      <th>annualHomeownersInsurance</th>\n",
       "      <th>state</th>\n",
       "      <th>yearBuilt</th>\n",
       "      <th>latitude</th>\n",
       "      <th>rentZestimate</th>\n",
       "      <th>city</th>\n",
       "      <th>zestimateLowPercent</th>\n",
       "      <th>...</th>\n",
       "      <th>bedrooms</th>\n",
       "      <th>price</th>\n",
       "      <th>zestimateHighPercent</th>\n",
       "      <th>homeType_APARTMENT</th>\n",
       "      <th>homeType_CONDO</th>\n",
       "      <th>homeType_LOT</th>\n",
       "      <th>homeType_MANUFACTURED</th>\n",
       "      <th>homeType_MULTI_FAMILY</th>\n",
       "      <th>homeType_SINGLE_FAMILY</th>\n",
       "      <th>homeType_TOWNHOUSE</th>\n",
       "    </tr>\n",
       "  </thead>\n",
       "  <tbody>\n",
       "    <tr>\n",
       "      <th>0</th>\n",
       "      <td>-149.91</td>\n",
       "      <td>2020.00</td>\n",
       "      <td>0.00</td>\n",
       "      <td>2840</td>\n",
       "      <td>AK</td>\n",
       "      <td>1959.00</td>\n",
       "      <td>61.22</td>\n",
       "      <td>3142.00</td>\n",
       "      <td>Anchorage</td>\n",
       "      <td>12.00</td>\n",
       "      <td>...</td>\n",
       "      <td>3.00</td>\n",
       "      <td>676100</td>\n",
       "      <td>13.00</td>\n",
       "      <td>0</td>\n",
       "      <td>0</td>\n",
       "      <td>0</td>\n",
       "      <td>0</td>\n",
       "      <td>0</td>\n",
       "      <td>1</td>\n",
       "      <td>0</td>\n",
       "    </tr>\n",
       "    <tr>\n",
       "      <th>1</th>\n",
       "      <td>-149.91</td>\n",
       "      <td>2020.00</td>\n",
       "      <td>0.00</td>\n",
       "      <td>2934</td>\n",
       "      <td>AK</td>\n",
       "      <td>1961.00</td>\n",
       "      <td>61.22</td>\n",
       "      <td>3113.00</td>\n",
       "      <td>Anchorage</td>\n",
       "      <td>12.00</td>\n",
       "      <td>...</td>\n",
       "      <td>3.00</td>\n",
       "      <td>698600</td>\n",
       "      <td>13.00</td>\n",
       "      <td>0</td>\n",
       "      <td>0</td>\n",
       "      <td>0</td>\n",
       "      <td>0</td>\n",
       "      <td>0</td>\n",
       "      <td>1</td>\n",
       "      <td>0</td>\n",
       "    </tr>\n",
       "    <tr>\n",
       "      <th>2</th>\n",
       "      <td>-149.91</td>\n",
       "      <td>2020.00</td>\n",
       "      <td>0.00</td>\n",
       "      <td>4187</td>\n",
       "      <td>AK</td>\n",
       "      <td>1983.00</td>\n",
       "      <td>61.22</td>\n",
       "      <td>4282.00</td>\n",
       "      <td>Anchorage</td>\n",
       "      <td>12.00</td>\n",
       "      <td>...</td>\n",
       "      <td>4.00</td>\n",
       "      <td>996800</td>\n",
       "      <td>14.00</td>\n",
       "      <td>0</td>\n",
       "      <td>0</td>\n",
       "      <td>0</td>\n",
       "      <td>0</td>\n",
       "      <td>0</td>\n",
       "      <td>1</td>\n",
       "      <td>0</td>\n",
       "    </tr>\n",
       "    <tr>\n",
       "      <th>3</th>\n",
       "      <td>-149.91</td>\n",
       "      <td>2020.00</td>\n",
       "      <td>0.00</td>\n",
       "      <td>2920</td>\n",
       "      <td>AK</td>\n",
       "      <td>1947.00</td>\n",
       "      <td>61.22</td>\n",
       "      <td>3458.00</td>\n",
       "      <td>Anchorage</td>\n",
       "      <td>15.00</td>\n",
       "      <td>...</td>\n",
       "      <td>5.00</td>\n",
       "      <td>695300</td>\n",
       "      <td>16.00</td>\n",
       "      <td>0</td>\n",
       "      <td>0</td>\n",
       "      <td>0</td>\n",
       "      <td>0</td>\n",
       "      <td>0</td>\n",
       "      <td>1</td>\n",
       "      <td>0</td>\n",
       "    </tr>\n",
       "    <tr>\n",
       "      <th>4</th>\n",
       "      <td>-149.91</td>\n",
       "      <td>2020.00</td>\n",
       "      <td>0.00</td>\n",
       "      <td>4100</td>\n",
       "      <td>AK</td>\n",
       "      <td>2000.00</td>\n",
       "      <td>61.22</td>\n",
       "      <td>4161.00</td>\n",
       "      <td>Anchorage</td>\n",
       "      <td>18.00</td>\n",
       "      <td>...</td>\n",
       "      <td>4.00</td>\n",
       "      <td>976100</td>\n",
       "      <td>24.00</td>\n",
       "      <td>0</td>\n",
       "      <td>1</td>\n",
       "      <td>0</td>\n",
       "      <td>0</td>\n",
       "      <td>0</td>\n",
       "      <td>0</td>\n",
       "      <td>0</td>\n",
       "    </tr>\n",
       "  </tbody>\n",
       "</table>\n",
       "<p>5 rows × 26 columns</p>\n",
       "</div>"
      ],
      "text/plain": [
       "   longitude  countyFIPS  monthlyHoaFee  annualHomeownersInsurance state  \\\n",
       "0    -149.91     2020.00           0.00                       2840    AK   \n",
       "1    -149.91     2020.00           0.00                       2934    AK   \n",
       "2    -149.91     2020.00           0.00                       4187    AK   \n",
       "3    -149.91     2020.00           0.00                       2920    AK   \n",
       "4    -149.91     2020.00           0.00                       4100    AK   \n",
       "\n",
       "   yearBuilt  latitude  rentZestimate       city  zestimateLowPercent  ...  \\\n",
       "0    1959.00     61.22        3142.00  Anchorage                12.00  ...   \n",
       "1    1961.00     61.22        3113.00  Anchorage                12.00  ...   \n",
       "2    1983.00     61.22        4282.00  Anchorage                12.00  ...   \n",
       "3    1947.00     61.22        3458.00  Anchorage                15.00  ...   \n",
       "4    2000.00     61.22        4161.00  Anchorage                18.00  ...   \n",
       "\n",
       "   bedrooms   price  zestimateHighPercent  homeType_APARTMENT  homeType_CONDO  \\\n",
       "0      3.00  676100                 13.00                   0               0   \n",
       "1      3.00  698600                 13.00                   0               0   \n",
       "2      4.00  996800                 14.00                   0               0   \n",
       "3      5.00  695300                 16.00                   0               0   \n",
       "4      4.00  976100                 24.00                   0               1   \n",
       "\n",
       "   homeType_LOT  homeType_MANUFACTURED  homeType_MULTI_FAMILY  \\\n",
       "0             0                      0                      0   \n",
       "1             0                      0                      0   \n",
       "2             0                      0                      0   \n",
       "3             0                      0                      0   \n",
       "4             0                      0                      0   \n",
       "\n",
       "   homeType_SINGLE_FAMILY  homeType_TOWNHOUSE  \n",
       "0                       1                   0  \n",
       "1                       1                   0  \n",
       "2                       1                   0  \n",
       "3                       1                   0  \n",
       "4                       0                   0  \n",
       "\n",
       "[5 rows x 26 columns]"
      ]
     },
     "execution_count": 19,
     "metadata": {},
     "output_type": "execute_result"
    }
   ],
   "source": [
    "df = pd.read_csv(\"Clean_Zillow.csv\")\n",
    "df.head()"
   ]
  },
  {
   "cell_type": "markdown",
   "metadata": {},
   "source": [
    "<b>Removing</b>"
   ]
  },
  {
   "cell_type": "code",
   "execution_count": 20,
   "metadata": {},
   "outputs": [],
   "source": [
    "dropable=[\"state\",\"city\",'yearBuilt','zestimateLowPercent','zestimate','zestimateHighPercent','latitude','zipcode','timeOnZillow']\n",
    "df=df.drop(dropable,axis=1)\n",
    "\n",
    "\n",
    "X = df.drop([\"price\"], axis=1)\n",
    "y = df['price']\n"
   ]
  },
  {
   "cell_type": "markdown",
   "metadata": {},
   "source": [
    "<b>Combining</b>"
   ]
  },
  {
   "cell_type": "code",
   "execution_count": 21,
   "metadata": {},
   "outputs": [
    {
     "data": {
      "text/html": [
       "<div>\n",
       "<style scoped>\n",
       "    .dataframe tbody tr th:only-of-type {\n",
       "        vertical-align: middle;\n",
       "    }\n",
       "\n",
       "    .dataframe tbody tr th {\n",
       "        vertical-align: top;\n",
       "    }\n",
       "\n",
       "    .dataframe thead th {\n",
       "        text-align: right;\n",
       "    }\n",
       "</style>\n",
       "<table border=\"1\" class=\"dataframe\">\n",
       "  <thead>\n",
       "    <tr style=\"text-align: right;\">\n",
       "      <th></th>\n",
       "      <th>longitude</th>\n",
       "      <th>countyFIPS</th>\n",
       "      <th>monthlyHoaFee</th>\n",
       "      <th>annualHomeownersInsurance</th>\n",
       "      <th>rentZestimate</th>\n",
       "      <th>livingArea</th>\n",
       "      <th>propertyTaxRate</th>\n",
       "      <th>bathrooms</th>\n",
       "      <th>bedrooms</th>\n",
       "      <th>price</th>\n",
       "      <th>homeType_CONDO</th>\n",
       "      <th>homeType_SINGLE_FAMILY</th>\n",
       "      <th>homeType_OTHER</th>\n",
       "    </tr>\n",
       "  </thead>\n",
       "  <tbody>\n",
       "    <tr>\n",
       "      <th>0</th>\n",
       "      <td>-149.91</td>\n",
       "      <td>2020.00</td>\n",
       "      <td>0.00</td>\n",
       "      <td>2840</td>\n",
       "      <td>3142.00</td>\n",
       "      <td>2668.00</td>\n",
       "      <td>1.31</td>\n",
       "      <td>2.00</td>\n",
       "      <td>3.00</td>\n",
       "      <td>676100</td>\n",
       "      <td>0</td>\n",
       "      <td>1</td>\n",
       "      <td>0</td>\n",
       "    </tr>\n",
       "    <tr>\n",
       "      <th>1</th>\n",
       "      <td>-149.91</td>\n",
       "      <td>2020.00</td>\n",
       "      <td>0.00</td>\n",
       "      <td>2934</td>\n",
       "      <td>3113.00</td>\n",
       "      <td>3179.00</td>\n",
       "      <td>1.31</td>\n",
       "      <td>2.00</td>\n",
       "      <td>3.00</td>\n",
       "      <td>698600</td>\n",
       "      <td>0</td>\n",
       "      <td>1</td>\n",
       "      <td>0</td>\n",
       "    </tr>\n",
       "    <tr>\n",
       "      <th>2</th>\n",
       "      <td>-149.91</td>\n",
       "      <td>2020.00</td>\n",
       "      <td>0.00</td>\n",
       "      <td>4187</td>\n",
       "      <td>4282.00</td>\n",
       "      <td>3059.00</td>\n",
       "      <td>1.31</td>\n",
       "      <td>3.00</td>\n",
       "      <td>4.00</td>\n",
       "      <td>996800</td>\n",
       "      <td>0</td>\n",
       "      <td>1</td>\n",
       "      <td>0</td>\n",
       "    </tr>\n",
       "    <tr>\n",
       "      <th>3</th>\n",
       "      <td>-149.91</td>\n",
       "      <td>2020.00</td>\n",
       "      <td>0.00</td>\n",
       "      <td>2920</td>\n",
       "      <td>3458.00</td>\n",
       "      <td>1642.00</td>\n",
       "      <td>1.31</td>\n",
       "      <td>2.00</td>\n",
       "      <td>5.00</td>\n",
       "      <td>695300</td>\n",
       "      <td>0</td>\n",
       "      <td>1</td>\n",
       "      <td>0</td>\n",
       "    </tr>\n",
       "    <tr>\n",
       "      <th>4</th>\n",
       "      <td>-149.91</td>\n",
       "      <td>2020.00</td>\n",
       "      <td>0.00</td>\n",
       "      <td>4100</td>\n",
       "      <td>4161.00</td>\n",
       "      <td>4483.00</td>\n",
       "      <td>1.31</td>\n",
       "      <td>4.00</td>\n",
       "      <td>4.00</td>\n",
       "      <td>976100</td>\n",
       "      <td>1</td>\n",
       "      <td>0</td>\n",
       "      <td>0</td>\n",
       "    </tr>\n",
       "  </tbody>\n",
       "</table>\n",
       "</div>"
      ],
      "text/plain": [
       "   longitude  countyFIPS  monthlyHoaFee  annualHomeownersInsurance  \\\n",
       "0    -149.91     2020.00           0.00                       2840   \n",
       "1    -149.91     2020.00           0.00                       2934   \n",
       "2    -149.91     2020.00           0.00                       4187   \n",
       "3    -149.91     2020.00           0.00                       2920   \n",
       "4    -149.91     2020.00           0.00                       4100   \n",
       "\n",
       "   rentZestimate  livingArea  propertyTaxRate  bathrooms  bedrooms   price  \\\n",
       "0        3142.00     2668.00             1.31       2.00      3.00  676100   \n",
       "1        3113.00     3179.00             1.31       2.00      3.00  698600   \n",
       "2        4282.00     3059.00             1.31       3.00      4.00  996800   \n",
       "3        3458.00     1642.00             1.31       2.00      5.00  695300   \n",
       "4        4161.00     4483.00             1.31       4.00      4.00  976100   \n",
       "\n",
       "   homeType_CONDO  homeType_SINGLE_FAMILY  homeType_OTHER  \n",
       "0               0                       1               0  \n",
       "1               0                       1               0  \n",
       "2               0                       1               0  \n",
       "3               0                       1               0  \n",
       "4               1                       0               0  "
      ]
     },
     "execution_count": 21,
     "metadata": {},
     "output_type": "execute_result"
    }
   ],
   "source": [
    "#Chatgpt\n",
    "# Example: Combine the sparse columns into an \"Other\" category\n",
    "sparse_columns = ['homeType_LOT', 'homeType_MANUFACTURED', 'homeType_APARTMENT','homeType_TOWNHOUSE','homeType_MULTI_FAMILY']\n",
    "\n",
    "# Create a new 'Other' column that combines the sparse categories\n",
    "df['homeType_OTHER'] = df[sparse_columns].sum(axis=1)\n",
    "\n",
    "# Drop the original sparse columns\n",
    "df = df.drop(columns=sparse_columns)\n",
    "\n",
    "# Check the updated DataFrame\n",
    "df.head()"
   ]
  },
  {
   "cell_type": "markdown",
   "metadata": {},
   "source": [
    "<b>Cap/Outlier Removal</b>"
   ]
  },
  {
   "cell_type": "markdown",
   "metadata": {},
   "source": [
    "<b>Distribution</b>"
   ]
  },
  {
   "cell_type": "code",
   "execution_count": 22,
   "metadata": {},
   "outputs": [],
   "source": [
    "#Distribution of the Focused on variable\n",
    "#Focused Variables are:\n",
    "#rentZestimate, livingArea, propertyTaxRate, bathrooms, bedrooms, price"
   ]
  },
  {
   "cell_type": "markdown",
   "metadata": {},
   "source": [
    "<b>Property Tax Rate</b>"
   ]
  },
  {
   "cell_type": "code",
   "execution_count": 23,
   "metadata": {},
   "outputs": [
    {
     "data": {
      "text/plain": [
       "<Axes: xlabel='propertyTaxRate', ylabel='Count'>"
      ]
     },
     "execution_count": 23,
     "metadata": {},
     "output_type": "execute_result"
    },
    {
     "data": {
      "image/png": "[encoded data removed]",
      "text/plain": [
       "<Figure size 640x480 with 1 Axes>"
      ]
     },
     "metadata": {},
     "output_type": "display_data"
    }
   ],
   "source": [
    "sns.histplot(data=df, x=\"propertyTaxRate\", kde=True)"
   ]
  },
  {
   "cell_type": "code",
   "execution_count": null,
   "metadata": {},
   "outputs": [],
   "source": [
    "#we have 5k houses, so i will use SMOTE and then undersample\n",
    "# after some consideration first undersampeling then ctgan is better"
   ]
  },
  {
   "cell_type": "code",
   "execution_count": 34,
   "metadata": {},
   "outputs": [],
   "source": [
    "from sklearn.ensemble import IsolationForest\n",
    "import pandas as pd\n",
    "\n",
    "# Define the target variable\n",
    "target = \"propertyTaxRate\"\n",
    "\n",
    "# Apply Isolation Forest\n",
    "iso = IsolationForest(contamination=0.1) \n",
    "df['outlier'] = iso.fit_predict(df[[target]])  # Fit on the target variable\n",
    "y_pred = iso.fit_predict(df)\n",
    "\n",
    "# filter outliers only\n",
    "outliers = df[y_pred != 1]\n",
    "df_undersampled = df.drop(outliers.index)"
   ]
  },
  {
   "cell_type": "code",
   "execution_count": 35,
   "metadata": {},
   "outputs": [
    {
     "data": {
      "text/plain": [
       "<Axes: xlabel='propertyTaxRate', ylabel='Count'>"
      ]
     },
     "execution_count": 35,
     "metadata": {},
     "output_type": "execute_result"
    },
    {
     "data": {
      "image/png": "[encoded data removed]",
      "text/plain": [
       "<Figure size 640x480 with 1 Axes>"
      ]
     },
     "metadata": {},
     "output_type": "display_data"
    }
   ],
   "source": [
    "sns.histplot(data=df_undersampled, x=\"propertyTaxRate\", kde=True)"
   ]
  },
  {
   "cell_type": "code",
   "execution_count": 25,
   "metadata": {},
   "outputs": [
    {
     "data": {
      "text/plain": [
       "<Axes: >"
      ]
     },
     "execution_count": 25,
     "metadata": {},
     "output_type": "execute_result"
    },
    {
     "data": {
      "image/png": "[encoded data removed]",
      "text/plain": [
       "<Figure size 640x480 with 1 Axes>"
      ]
     },
     "metadata": {},
     "output_type": "display_data"
    }
   ],
   "source": [
    "\n",
    "# Target variable\n",
    "target = \"propertyTaxRate\"\n",
    "\n",
    "# Full dataset for training CTGAN\n",
    "ctgan = CTGAN(epochs=100)  # Specify the number of epochs for training\n",
    "ctgan.fit(df)  # Train the CTGAN model on the dataset\n",
    "\n",
    "# Generate synthetic data\n",
    "num_new_data = 10000  # Number of synthetic rows to generate\n",
    "synthetic_data = ctgan.sample(num_new_data)\n",
    "\n",
    "# Convert the synthetic data to a Pandas DataFrame\n",
    "synthetic_df = pd.DataFrame(synthetic_data, columns=df.columns)\n",
    "\n",
    "# Inspect the distribution of the generated 'propertyTaxRate'\n",
    "synthetic_df[target].hist(bins=50)  # Plot the synthetic distribution\n"
   ]
  },
  {
   "cell_type": "code",
   "execution_count": 26,
   "metadata": {},
   "outputs": [
    {
     "data": {
      "text/plain": [
       "<Axes: xlabel='propertyTaxRate', ylabel='Count'>"
      ]
     },
     "execution_count": 26,
     "metadata": {},
     "output_type": "execute_result"
    },
    {
     "data": {
      "image/png": "[encoded data removed]",
      "text/plain": [
       "<Figure size 640x480 with 1 Axes>"
      ]
     },
     "metadata": {},
     "output_type": "display_data"
    }
   ],
   "source": [
    "sns.histplot(data=synthetic_df, x=\"propertyTaxRate\", kde=True)"
   ]
  },
  {
   "cell_type": "markdown",
   "metadata": {},
   "source": [
    "<b>Finished Product</b>\n"
   ]
  },
  {
   "cell_type": "code",
   "execution_count": 27,
   "metadata": {},
   "outputs": [],
   "source": [
    "df.to_csv('fixed_Zillow.csv', index=False)"
   ]
  }
 ],
 "metadata": {
  "kernelspec": {
   "display_name": ".venv",
   "language": "python",
   "name": "python3"
  },
  "language_info": {
   "codemirror_mode": {
    "name": "ipython",
    "version": 3
   },
   "file_extension": ".py",
   "mimetype": "text/x-python",
   "name": "python",
   "nbconvert_exporter": "python",
   "pygments_lexer": "ipython3",
   "version": "3.10.11"
  }
 },
 "nbformat": 4,
 "nbformat_minor": 2
}
