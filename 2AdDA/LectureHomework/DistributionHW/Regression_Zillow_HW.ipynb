{
 "cells": [
  {
   "cell_type": "code",
   "execution_count": 73,
   "metadata": {},
   "outputs": [],
   "source": [
    "import pandas as pd\n",
    "import numpy as np\n",
    "import keras\n",
    "from keras import layers\n",
    "from sklearn.preprocessing import OneHotEncoder, LabelEncoder\n",
    "import tensorflow as tf\n",
    "import phik\n",
    "import seaborn as sns\n",
    "import matplotlib.pyplot as plt"
   ]
  },
  {
   "cell_type": "code",
   "execution_count": 74,
   "metadata": {},
   "outputs": [],
   "source": [
    "from imblearn.under_sampling import RandomUnderSampler\n",
    "import seaborn as sns\n",
    "from ctgan import CTGAN\n",
    "from sklearn.preprocessing import KBinsDiscretizer\n",
    "from sklearn.linear_model import RANSACRegressor\n",
    "from collections import Counter\n",
    "from imblearn.over_sampling import SMOTE, ADASYN\n",
    "pd.set_option('display.float_format', '{:.2f}'.format)"
   ]
  },
  {
   "cell_type": "markdown",
   "metadata": {},
   "source": [
    "<h1>Fixing the Regression</h1>\n"
   ]
  },
  {
   "cell_type": "markdown",
   "metadata": {},
   "source": [
    "<b>Summary from the report</b>\n",
    "<ul>\n",
    "<li>Remove from the List</li>\n",
    "<li>Cap the outliers, especially for the 6 focused on columns</li>\n",
    "<li>Next Homework, fix distribution with synthetic Data for the ones where autovizviz, ydata and SHAP say the importance is higher (only for the kept columns, maybe redo all the reports with the cut down data)</li>\n",
    "</ul>"
   ]
  },
  {
   "cell_type": "code",
   "execution_count": 75,
   "metadata": {},
   "outputs": [
    {
     "data": {
      "text/html": [
       "<div>\n",
       "<style scoped>\n",
       "    .dataframe tbody tr th:only-of-type {\n",
       "        vertical-align: middle;\n",
       "    }\n",
       "\n",
       "    .dataframe tbody tr th {\n",
       "        vertical-align: top;\n",
       "    }\n",
       "\n",
       "    .dataframe thead th {\n",
       "        text-align: right;\n",
       "    }\n",
       "</style>\n",
       "<table border=\"1\" class=\"dataframe\">\n",
       "  <thead>\n",
       "    <tr style=\"text-align: right;\">\n",
       "      <th></th>\n",
       "      <th>longitude</th>\n",
       "      <th>countyFIPS</th>\n",
       "      <th>monthlyHoaFee</th>\n",
       "      <th>annualHomeownersInsurance</th>\n",
       "      <th>state</th>\n",
       "      <th>yearBuilt</th>\n",
       "      <th>latitude</th>\n",
       "      <th>rentZestimate</th>\n",
       "      <th>city</th>\n",
       "      <th>zestimateLowPercent</th>\n",
       "      <th>...</th>\n",
       "      <th>bedrooms</th>\n",
       "      <th>price</th>\n",
       "      <th>zestimateHighPercent</th>\n",
       "      <th>homeType_APARTMENT</th>\n",
       "      <th>homeType_CONDO</th>\n",
       "      <th>homeType_LOT</th>\n",
       "      <th>homeType_MANUFACTURED</th>\n",
       "      <th>homeType_MULTI_FAMILY</th>\n",
       "      <th>homeType_SINGLE_FAMILY</th>\n",
       "      <th>homeType_TOWNHOUSE</th>\n",
       "    </tr>\n",
       "  </thead>\n",
       "  <tbody>\n",
       "    <tr>\n",
       "      <th>0</th>\n",
       "      <td>-149.91</td>\n",
       "      <td>2020.00</td>\n",
       "      <td>0.00</td>\n",
       "      <td>2840</td>\n",
       "      <td>AK</td>\n",
       "      <td>1959.00</td>\n",
       "      <td>61.22</td>\n",
       "      <td>3142.00</td>\n",
       "      <td>Anchorage</td>\n",
       "      <td>12.00</td>\n",
       "      <td>...</td>\n",
       "      <td>3.00</td>\n",
       "      <td>676100</td>\n",
       "      <td>13.00</td>\n",
       "      <td>0</td>\n",
       "      <td>0</td>\n",
       "      <td>0</td>\n",
       "      <td>0</td>\n",
       "      <td>0</td>\n",
       "      <td>1</td>\n",
       "      <td>0</td>\n",
       "    </tr>\n",
       "    <tr>\n",
       "      <th>1</th>\n",
       "      <td>-149.91</td>\n",
       "      <td>2020.00</td>\n",
       "      <td>0.00</td>\n",
       "      <td>2934</td>\n",
       "      <td>AK</td>\n",
       "      <td>1961.00</td>\n",
       "      <td>61.22</td>\n",
       "      <td>3113.00</td>\n",
       "      <td>Anchorage</td>\n",
       "      <td>12.00</td>\n",
       "      <td>...</td>\n",
       "      <td>3.00</td>\n",
       "      <td>698600</td>\n",
       "      <td>13.00</td>\n",
       "      <td>0</td>\n",
       "      <td>0</td>\n",
       "      <td>0</td>\n",
       "      <td>0</td>\n",
       "      <td>0</td>\n",
       "      <td>1</td>\n",
       "      <td>0</td>\n",
       "    </tr>\n",
       "    <tr>\n",
       "      <th>2</th>\n",
       "      <td>-149.91</td>\n",
       "      <td>2020.00</td>\n",
       "      <td>0.00</td>\n",
       "      <td>4187</td>\n",
       "      <td>AK</td>\n",
       "      <td>1983.00</td>\n",
       "      <td>61.22</td>\n",
       "      <td>4282.00</td>\n",
       "      <td>Anchorage</td>\n",
       "      <td>12.00</td>\n",
       "      <td>...</td>\n",
       "      <td>4.00</td>\n",
       "      <td>996800</td>\n",
       "      <td>14.00</td>\n",
       "      <td>0</td>\n",
       "      <td>0</td>\n",
       "      <td>0</td>\n",
       "      <td>0</td>\n",
       "      <td>0</td>\n",
       "      <td>1</td>\n",
       "      <td>0</td>\n",
       "    </tr>\n",
       "    <tr>\n",
       "      <th>3</th>\n",
       "      <td>-149.91</td>\n",
       "      <td>2020.00</td>\n",
       "      <td>0.00</td>\n",
       "      <td>2920</td>\n",
       "      <td>AK</td>\n",
       "      <td>1947.00</td>\n",
       "      <td>61.22</td>\n",
       "      <td>3458.00</td>\n",
       "      <td>Anchorage</td>\n",
       "      <td>15.00</td>\n",
       "      <td>...</td>\n",
       "      <td>5.00</td>\n",
       "      <td>695300</td>\n",
       "      <td>16.00</td>\n",
       "      <td>0</td>\n",
       "      <td>0</td>\n",
       "      <td>0</td>\n",
       "      <td>0</td>\n",
       "      <td>0</td>\n",
       "      <td>1</td>\n",
       "      <td>0</td>\n",
       "    </tr>\n",
       "    <tr>\n",
       "      <th>4</th>\n",
       "      <td>-149.91</td>\n",
       "      <td>2020.00</td>\n",
       "      <td>0.00</td>\n",
       "      <td>4100</td>\n",
       "      <td>AK</td>\n",
       "      <td>2000.00</td>\n",
       "      <td>61.22</td>\n",
       "      <td>4161.00</td>\n",
       "      <td>Anchorage</td>\n",
       "      <td>18.00</td>\n",
       "      <td>...</td>\n",
       "      <td>4.00</td>\n",
       "      <td>976100</td>\n",
       "      <td>24.00</td>\n",
       "      <td>0</td>\n",
       "      <td>1</td>\n",
       "      <td>0</td>\n",
       "      <td>0</td>\n",
       "      <td>0</td>\n",
       "      <td>0</td>\n",
       "      <td>0</td>\n",
       "    </tr>\n",
       "  </tbody>\n",
       "</table>\n",
       "<p>5 rows × 26 columns</p>\n",
       "</div>"
      ],
      "text/plain": [
       "   longitude  countyFIPS  monthlyHoaFee  annualHomeownersInsurance state  \\\n",
       "0    -149.91     2020.00           0.00                       2840    AK   \n",
       "1    -149.91     2020.00           0.00                       2934    AK   \n",
       "2    -149.91     2020.00           0.00                       4187    AK   \n",
       "3    -149.91     2020.00           0.00                       2920    AK   \n",
       "4    -149.91     2020.00           0.00                       4100    AK   \n",
       "\n",
       "   yearBuilt  latitude  rentZestimate       city  zestimateLowPercent  ...  \\\n",
       "0    1959.00     61.22        3142.00  Anchorage                12.00  ...   \n",
       "1    1961.00     61.22        3113.00  Anchorage                12.00  ...   \n",
       "2    1983.00     61.22        4282.00  Anchorage                12.00  ...   \n",
       "3    1947.00     61.22        3458.00  Anchorage                15.00  ...   \n",
       "4    2000.00     61.22        4161.00  Anchorage                18.00  ...   \n",
       "\n",
       "   bedrooms   price  zestimateHighPercent  homeType_APARTMENT  homeType_CONDO  \\\n",
       "0      3.00  676100                 13.00                   0               0   \n",
       "1      3.00  698600                 13.00                   0               0   \n",
       "2      4.00  996800                 14.00                   0               0   \n",
       "3      5.00  695300                 16.00                   0               0   \n",
       "4      4.00  976100                 24.00                   0               1   \n",
       "\n",
       "   homeType_LOT  homeType_MANUFACTURED  homeType_MULTI_FAMILY  \\\n",
       "0             0                      0                      0   \n",
       "1             0                      0                      0   \n",
       "2             0                      0                      0   \n",
       "3             0                      0                      0   \n",
       "4             0                      0                      0   \n",
       "\n",
       "   homeType_SINGLE_FAMILY  homeType_TOWNHOUSE  \n",
       "0                       1                   0  \n",
       "1                       1                   0  \n",
       "2                       1                   0  \n",
       "3                       1                   0  \n",
       "4                       0                   0  \n",
       "\n",
       "[5 rows x 26 columns]"
      ]
     },
     "execution_count": 75,
     "metadata": {},
     "output_type": "execute_result"
    }
   ],
   "source": [
    "df = pd.read_csv(\"Clean_Zillow.csv\")\n",
    "df.head()"
   ]
  },
  {
   "cell_type": "markdown",
   "metadata": {},
   "source": [
    "<b>Removing</b>"
   ]
  },
  {
   "cell_type": "code",
   "execution_count": 76,
   "metadata": {},
   "outputs": [],
   "source": [
    "dropable=[\"state\",\"city\",'yearBuilt','zestimateLowPercent','zestimate','zestimateHighPercent','latitude','zipcode','timeOnZillow']\n",
    "df=df.drop(dropable,axis=1)\n",
    "\n",
    "\n",
    "X = df.drop([\"price\"], axis=1)\n",
    "y = df['price']\n"
   ]
  },
  {
   "cell_type": "markdown",
   "metadata": {},
   "source": [
    "<b>Combining</b>"
   ]
  },
  {
   "cell_type": "code",
   "execution_count": 77,
   "metadata": {},
   "outputs": [
    {
     "data": {
      "text/html": [
       "<div>\n",
       "<style scoped>\n",
       "    .dataframe tbody tr th:only-of-type {\n",
       "        vertical-align: middle;\n",
       "    }\n",
       "\n",
       "    .dataframe tbody tr th {\n",
       "        vertical-align: top;\n",
       "    }\n",
       "\n",
       "    .dataframe thead th {\n",
       "        text-align: right;\n",
       "    }\n",
       "</style>\n",
       "<table border=\"1\" class=\"dataframe\">\n",
       "  <thead>\n",
       "    <tr style=\"text-align: right;\">\n",
       "      <th></th>\n",
       "      <th>longitude</th>\n",
       "      <th>countyFIPS</th>\n",
       "      <th>monthlyHoaFee</th>\n",
       "      <th>annualHomeownersInsurance</th>\n",
       "      <th>rentZestimate</th>\n",
       "      <th>livingArea</th>\n",
       "      <th>propertyTaxRate</th>\n",
       "      <th>bathrooms</th>\n",
       "      <th>bedrooms</th>\n",
       "      <th>price</th>\n",
       "      <th>homeType_CONDO</th>\n",
       "      <th>homeType_SINGLE_FAMILY</th>\n",
       "      <th>homeType_OTHER</th>\n",
       "    </tr>\n",
       "  </thead>\n",
       "  <tbody>\n",
       "    <tr>\n",
       "      <th>0</th>\n",
       "      <td>-149.91</td>\n",
       "      <td>2020.00</td>\n",
       "      <td>0.00</td>\n",
       "      <td>2840</td>\n",
       "      <td>3142.00</td>\n",
       "      <td>2668.00</td>\n",
       "      <td>1.31</td>\n",
       "      <td>2.00</td>\n",
       "      <td>3.00</td>\n",
       "      <td>676100</td>\n",
       "      <td>0</td>\n",
       "      <td>1</td>\n",
       "      <td>0</td>\n",
       "    </tr>\n",
       "    <tr>\n",
       "      <th>1</th>\n",
       "      <td>-149.91</td>\n",
       "      <td>2020.00</td>\n",
       "      <td>0.00</td>\n",
       "      <td>2934</td>\n",
       "      <td>3113.00</td>\n",
       "      <td>3179.00</td>\n",
       "      <td>1.31</td>\n",
       "      <td>2.00</td>\n",
       "      <td>3.00</td>\n",
       "      <td>698600</td>\n",
       "      <td>0</td>\n",
       "      <td>1</td>\n",
       "      <td>0</td>\n",
       "    </tr>\n",
       "    <tr>\n",
       "      <th>2</th>\n",
       "      <td>-149.91</td>\n",
       "      <td>2020.00</td>\n",
       "      <td>0.00</td>\n",
       "      <td>4187</td>\n",
       "      <td>4282.00</td>\n",
       "      <td>3059.00</td>\n",
       "      <td>1.31</td>\n",
       "      <td>3.00</td>\n",
       "      <td>4.00</td>\n",
       "      <td>996800</td>\n",
       "      <td>0</td>\n",
       "      <td>1</td>\n",
       "      <td>0</td>\n",
       "    </tr>\n",
       "    <tr>\n",
       "      <th>3</th>\n",
       "      <td>-149.91</td>\n",
       "      <td>2020.00</td>\n",
       "      <td>0.00</td>\n",
       "      <td>2920</td>\n",
       "      <td>3458.00</td>\n",
       "      <td>1642.00</td>\n",
       "      <td>1.31</td>\n",
       "      <td>2.00</td>\n",
       "      <td>5.00</td>\n",
       "      <td>695300</td>\n",
       "      <td>0</td>\n",
       "      <td>1</td>\n",
       "      <td>0</td>\n",
       "    </tr>\n",
       "    <tr>\n",
       "      <th>4</th>\n",
       "      <td>-149.91</td>\n",
       "      <td>2020.00</td>\n",
       "      <td>0.00</td>\n",
       "      <td>4100</td>\n",
       "      <td>4161.00</td>\n",
       "      <td>4483.00</td>\n",
       "      <td>1.31</td>\n",
       "      <td>4.00</td>\n",
       "      <td>4.00</td>\n",
       "      <td>976100</td>\n",
       "      <td>1</td>\n",
       "      <td>0</td>\n",
       "      <td>0</td>\n",
       "    </tr>\n",
       "  </tbody>\n",
       "</table>\n",
       "</div>"
      ],
      "text/plain": [
       "   longitude  countyFIPS  monthlyHoaFee  annualHomeownersInsurance  \\\n",
       "0    -149.91     2020.00           0.00                       2840   \n",
       "1    -149.91     2020.00           0.00                       2934   \n",
       "2    -149.91     2020.00           0.00                       4187   \n",
       "3    -149.91     2020.00           0.00                       2920   \n",
       "4    -149.91     2020.00           0.00                       4100   \n",
       "\n",
       "   rentZestimate  livingArea  propertyTaxRate  bathrooms  bedrooms   price  \\\n",
       "0        3142.00     2668.00             1.31       2.00      3.00  676100   \n",
       "1        3113.00     3179.00             1.31       2.00      3.00  698600   \n",
       "2        4282.00     3059.00             1.31       3.00      4.00  996800   \n",
       "3        3458.00     1642.00             1.31       2.00      5.00  695300   \n",
       "4        4161.00     4483.00             1.31       4.00      4.00  976100   \n",
       "\n",
       "   homeType_CONDO  homeType_SINGLE_FAMILY  homeType_OTHER  \n",
       "0               0                       1               0  \n",
       "1               0                       1               0  \n",
       "2               0                       1               0  \n",
       "3               0                       1               0  \n",
       "4               1                       0               0  "
      ]
     },
     "execution_count": 77,
     "metadata": {},
     "output_type": "execute_result"
    }
   ],
   "source": [
    "#Chatgpt\n",
    "# Example: Combine the sparse columns into an \"Other\" category\n",
    "sparse_columns = ['homeType_LOT', 'homeType_MANUFACTURED', 'homeType_APARTMENT','homeType_TOWNHOUSE','homeType_MULTI_FAMILY']\n",
    "\n",
    "# Create a new 'Other' column that combines the sparse categories\n",
    "df['homeType_OTHER'] = df[sparse_columns].sum(axis=1)\n",
    "\n",
    "# Drop the original sparse columns\n",
    "df = df.drop(columns=sparse_columns)\n",
    "\n",
    "# Check the updated DataFrame\n",
    "df.head()"
   ]
  },
  {
   "cell_type": "markdown",
   "metadata": {},
   "source": [
    "<b>Cap/Outlier Removal</b>"
   ]
  },
  {
   "cell_type": "markdown",
   "metadata": {},
   "source": [
    "<b>Distribution</b>"
   ]
  },
  {
   "cell_type": "code",
   "execution_count": 78,
   "metadata": {},
   "outputs": [],
   "source": [
    "#Distribution of the Focused on variable\n",
    "#Focused Variables are:\n",
    "#rentZestimate, livingArea, propertyTaxRate, bathrooms, bedrooms, price"
   ]
  },
  {
   "cell_type": "markdown",
   "metadata": {},
   "source": [
    "<b>Property Tax Rate</b>"
   ]
  },
  {
   "cell_type": "code",
   "execution_count": 79,
   "metadata": {},
   "outputs": [
    {
     "data": {
      "text/plain": [
       "<Axes: xlabel='propertyTaxRate', ylabel='Count'>"
      ]
     },
     "execution_count": 79,
     "metadata": {},
     "output_type": "execute_result"
    },
    {
     "data": {
      "image/png": "[encoded data removed]",
      "text/plain": [
       "<Figure size 640x480 with 1 Axes>"
      ]
     },
     "metadata": {},
     "output_type": "display_data"
    }
   ],
   "source": [
    "sns.histplot(data=df, x=\"propertyTaxRate\", kde=True)"
   ]
  },
  {
   "cell_type": "code",
   "execution_count": 80,
   "metadata": {},
   "outputs": [],
   "source": [
    "#we have 5k houses, so i will use SMOTE and then undersample\n",
    "# after some consideration first undersampeling then ctgan is better"
   ]
  },
  {
   "cell_type": "code",
   "execution_count": null,
   "metadata": {},
   "outputs": [],
   "source": [
    "target = \"propertyTaxRate\"\n",
    "\n",
    "# typical X/y split, choose target variable as needed\n",
    "X = df.drop([target], axis=1)\n",
    "y = df[target]\n",
    "\n",
    "# initialize CTGAN and start training\n",
    "# CTGAN is based on neural networks (GAN), that's why we have to specify epochs\n",
    "ctgan = CTGAN()\n",
    "ctgan.fit(df, epochs=100)\n",
    "\n",
    "# get the data from the model\n",
    "num_new_data = 100000\n",
    "synthetic_df = ctgan.sample(num_new_data)\n"
   ]
  },
  {
   "cell_type": "code",
   "execution_count": null,
   "metadata": {},
   "outputs": [
    {
     "data": {
      "text/html": [
       "<div>\n",
       "<style scoped>\n",
       "    .dataframe tbody tr th:only-of-type {\n",
       "        vertical-align: middle;\n",
       "    }\n",
       "\n",
       "    .dataframe tbody tr th {\n",
       "        vertical-align: top;\n",
       "    }\n",
       "\n",
       "    .dataframe thead th {\n",
       "        text-align: right;\n",
       "    }\n",
       "</style>\n",
       "<table border=\"1\" class=\"dataframe\">\n",
       "  <thead>\n",
       "    <tr style=\"text-align: right;\">\n",
       "      <th></th>\n",
       "      <th>longitude</th>\n",
       "      <th>countyFIPS</th>\n",
       "      <th>monthlyHoaFee</th>\n",
       "      <th>annualHomeownersInsurance</th>\n",
       "      <th>rentZestimate</th>\n",
       "      <th>livingArea</th>\n",
       "      <th>propertyTaxRate</th>\n",
       "      <th>bathrooms</th>\n",
       "      <th>bedrooms</th>\n",
       "      <th>price</th>\n",
       "      <th>homeType_CONDO</th>\n",
       "      <th>homeType_SINGLE_FAMILY</th>\n",
       "      <th>homeType_OTHER</th>\n",
       "    </tr>\n",
       "  </thead>\n",
       "  <tbody>\n",
       "    <tr>\n",
       "      <th>count</th>\n",
       "      <td>1000000.00</td>\n",
       "      <td>1000000.00</td>\n",
       "      <td>1000000.00</td>\n",
       "      <td>1000000.00</td>\n",
       "      <td>1000000.00</td>\n",
       "      <td>1000000.00</td>\n",
       "      <td>1000000.00</td>\n",
       "      <td>1000000.00</td>\n",
       "      <td>1000000.00</td>\n",
       "      <td>1000000.00</td>\n",
       "      <td>1000000.00</td>\n",
       "      <td>1000000.00</td>\n",
       "      <td>1000000.00</td>\n",
       "    </tr>\n",
       "    <tr>\n",
       "      <th>mean</th>\n",
       "      <td>-148.99</td>\n",
       "      <td>2969.31</td>\n",
       "      <td>27.68</td>\n",
       "      <td>1848.36</td>\n",
       "      <td>2456.26</td>\n",
       "      <td>1767.10</td>\n",
       "      <td>1.31</td>\n",
       "      <td>1.98</td>\n",
       "      <td>3.29</td>\n",
       "      <td>363327.35</td>\n",
       "      <td>0.14</td>\n",
       "      <td>0.78</td>\n",
       "      <td>0.24</td>\n",
       "    </tr>\n",
       "    <tr>\n",
       "      <th>std</th>\n",
       "      <td>7.39</td>\n",
       "      <td>6196.68</td>\n",
       "      <td>106.08</td>\n",
       "      <td>786.19</td>\n",
       "      <td>741.49</td>\n",
       "      <td>870.64</td>\n",
       "      <td>0.05</td>\n",
       "      <td>0.61</td>\n",
       "      <td>1.16</td>\n",
       "      <td>134790.77</td>\n",
       "      <td>0.34</td>\n",
       "      <td>0.42</td>\n",
       "      <td>0.43</td>\n",
       "    </tr>\n",
       "    <tr>\n",
       "      <th>min</th>\n",
       "      <td>-150.30</td>\n",
       "      <td>1553.92</td>\n",
       "      <td>-346.39</td>\n",
       "      <td>-211.00</td>\n",
       "      <td>-66.69</td>\n",
       "      <td>-1083.52</td>\n",
       "      <td>-0.05</td>\n",
       "      <td>-1.76</td>\n",
       "      <td>0.54</td>\n",
       "      <td>-382395.00</td>\n",
       "      <td>0.00</td>\n",
       "      <td>0.00</td>\n",
       "      <td>0.00</td>\n",
       "    </tr>\n",
       "    <tr>\n",
       "      <th>25%</th>\n",
       "      <td>-149.98</td>\n",
       "      <td>2038.51</td>\n",
       "      <td>-5.03</td>\n",
       "      <td>1406.00</td>\n",
       "      <td>1897.62</td>\n",
       "      <td>1122.58</td>\n",
       "      <td>1.31</td>\n",
       "      <td>1.96</td>\n",
       "      <td>2.14</td>\n",
       "      <td>292955.00</td>\n",
       "      <td>0.00</td>\n",
       "      <td>1.00</td>\n",
       "      <td>0.00</td>\n",
       "    </tr>\n",
       "    <tr>\n",
       "      <th>50%</th>\n",
       "      <td>-149.90</td>\n",
       "      <td>2067.57</td>\n",
       "      <td>2.36</td>\n",
       "      <td>1791.00</td>\n",
       "      <td>2457.48</td>\n",
       "      <td>1692.14</td>\n",
       "      <td>1.31</td>\n",
       "      <td>1.98</td>\n",
       "      <td>3.04</td>\n",
       "      <td>365683.00</td>\n",
       "      <td>0.00</td>\n",
       "      <td>1.00</td>\n",
       "      <td>0.00</td>\n",
       "    </tr>\n",
       "    <tr>\n",
       "      <th>75%</th>\n",
       "      <td>-149.82</td>\n",
       "      <td>2094.96</td>\n",
       "      <td>10.42</td>\n",
       "      <td>2170.00</td>\n",
       "      <td>2913.52</td>\n",
       "      <td>2128.78</td>\n",
       "      <td>1.31</td>\n",
       "      <td>2.01</td>\n",
       "      <td>4.03</td>\n",
       "      <td>423574.00</td>\n",
       "      <td>0.00</td>\n",
       "      <td>1.00</td>\n",
       "      <td>0.00</td>\n",
       "    </tr>\n",
       "    <tr>\n",
       "      <th>max</th>\n",
       "      <td>-44.81</td>\n",
       "      <td>74392.91</td>\n",
       "      <td>1689.14</td>\n",
       "      <td>7158.00</td>\n",
       "      <td>7045.32</td>\n",
       "      <td>9791.09</td>\n",
       "      <td>2.95</td>\n",
       "      <td>7.22</td>\n",
       "      <td>12.29</td>\n",
       "      <td>1806823.00</td>\n",
       "      <td>1.00</td>\n",
       "      <td>1.00</td>\n",
       "      <td>1.00</td>\n",
       "    </tr>\n",
       "  </tbody>\n",
       "</table>\n",
       "</div>"
      ],
      "text/plain": [
       "       longitude  countyFIPS  monthlyHoaFee  annualHomeownersInsurance  \\\n",
       "count 1000000.00  1000000.00     1000000.00                 1000000.00   \n",
       "mean     -148.99     2969.31          27.68                    1848.36   \n",
       "std         7.39     6196.68         106.08                     786.19   \n",
       "min      -150.30     1553.92        -346.39                    -211.00   \n",
       "25%      -149.98     2038.51          -5.03                    1406.00   \n",
       "50%      -149.90     2067.57           2.36                    1791.00   \n",
       "75%      -149.82     2094.96          10.42                    2170.00   \n",
       "max       -44.81    74392.91        1689.14                    7158.00   \n",
       "\n",
       "       rentZestimate  livingArea  propertyTaxRate  bathrooms   bedrooms  \\\n",
       "count     1000000.00  1000000.00       1000000.00 1000000.00 1000000.00   \n",
       "mean         2456.26     1767.10             1.31       1.98       3.29   \n",
       "std           741.49      870.64             0.05       0.61       1.16   \n",
       "min           -66.69    -1083.52            -0.05      -1.76       0.54   \n",
       "25%          1897.62     1122.58             1.31       1.96       2.14   \n",
       "50%          2457.48     1692.14             1.31       1.98       3.04   \n",
       "75%          2913.52     2128.78             1.31       2.01       4.03   \n",
       "max          7045.32     9791.09             2.95       7.22      12.29   \n",
       "\n",
       "           price  homeType_CONDO  homeType_SINGLE_FAMILY  homeType_OTHER  \n",
       "count 1000000.00      1000000.00              1000000.00      1000000.00  \n",
       "mean   363327.35            0.14                    0.78            0.24  \n",
       "std    134790.77            0.34                    0.42            0.43  \n",
       "min   -382395.00            0.00                    0.00            0.00  \n",
       "25%    292955.00            0.00                    1.00            0.00  \n",
       "50%    365683.00            0.00                    1.00            0.00  \n",
       "75%    423574.00            0.00                    1.00            0.00  \n",
       "max   1806823.00            1.00                    1.00            1.00  "
      ]
     },
     "execution_count": 57,
     "metadata": {},
     "output_type": "execute_result"
    }
   ],
   "source": [
    "synthetic_df.describe()"
   ]
  },
  {
   "cell_type": "code",
   "execution_count": null,
   "metadata": {},
   "outputs": [
    {
     "data": {
      "text/plain": [
       "<Axes: xlabel='propertyTaxRate', ylabel='Count'>"
      ]
     },
     "execution_count": 58,
     "metadata": {},
     "output_type": "execute_result"
    },
    {
     "data": {
      "image/png": "[encoded data removed]",
      "text/plain": [
       "<Figure size 640x480 with 1 Axes>"
      ]
     },
     "metadata": {},
     "output_type": "display_data"
    }
   ],
   "source": [
    "sns.histplot(data=synthetic_df, x=\"propertyTaxRate\", kde=True)"
   ]
  },
  {
   "cell_type": "code",
   "execution_count": null,
   "metadata": {},
   "outputs": [
    {
     "data": {
      "text/plain": [
       "<Axes: >"
      ]
     },
     "execution_count": 63,
     "metadata": {},
     "output_type": "execute_result"
    },
    {
     "data": {
      "image/png": "[encoded data removed]",
      "text/plain": [
       "<Figure size 640x480 with 1 Axes>"
      ]
     },
     "metadata": {},
     "output_type": "display_data"
    }
   ],
   "source": [
    "ransac = RANSACRegressor(residual_threshold=np.std(y) * 1.5)\n",
    "ransac.fit(X, y)\n",
    "\n",
    "# now we have split the result into \n",
    "# inliers and outliers\n",
    "# inliers => good data, follows the distribution nicely\n",
    "# outliers => are far away from the main distribution\n",
    "# the ~-sign (tilde) in pandas DataFrames means \"the opposite of\"\n",
    "# so in this case => get everything from DataFrame EXCEPT the inliers\n",
    "inlier_mask = ransac.inlier_mask_\n",
    "outliers = df[~inlier_mask]\n",
    "inliers = df[inlier_mask]\n",
    "\n",
    "print(f\"Inliers: {len(inliers)}\")\n",
    "print(f\"Outliers: {len(outliers)}\")\n"
   ]
  },
  {
   "cell_type": "code",
   "execution_count": null,
   "metadata": {},
   "outputs": [
    {
     "data": {
      "text/plain": [
       "<Axes: xlabel='propertyTaxRate', ylabel='Count'>"
      ]
     },
     "execution_count": 62,
     "metadata": {},
     "output_type": "execute_result"
    },
    {
     "data": {
      "image/png": "[encoded data removed]",
      "text/plain": [
       "<Figure size 640x480 with 1 Axes>"
      ]
     },
     "metadata": {},
     "output_type": "display_data"
    }
   ],
   "source": [
    "from sklearn.ensemble import IsolationForest\n",
    "\n",
    "# adjust the contamination rate as you see fit\n",
    "# for example, if you expect 5% of the data to be outliers\n",
    "# you can use 0.05 etc. \n",
    "iso = IsolationForest(contamination=0.1) \n",
    "\n",
    "# fit isolation forest\n",
    "y_pred = iso.fit_predict(df)\n",
    "\n",
    "# filter outliers only\n",
    "outliers = df[y_pred != 1]\n",
    "df = df.drop(outliers.index)"
   ]
  },
  {
   "cell_type": "markdown",
   "metadata": {},
   "source": [
    "<b>Finished Product</b>\n"
   ]
  },
  {
   "cell_type": "code",
   "execution_count": null,
   "metadata": {},
   "outputs": [],
   "source": [
    "df.to_csv('fixed_Zillow.csv', index=False)"
   ]
  }
 ],
 "metadata": {
  "kernelspec": {
   "display_name": ".venv",
   "language": "python",
   "name": "python3"
  },
  "language_info": {
   "codemirror_mode": {
    "name": "ipython",
    "version": 3
   },
   "file_extension": ".py",
   "mimetype": "text/x-python",
   "name": "python",
   "nbconvert_exporter": "python",
   "pygments_lexer": "ipython3",
   "version": "3.10.11"
  }
 },
 "nbformat": 4,
 "nbformat_minor": 2
}
