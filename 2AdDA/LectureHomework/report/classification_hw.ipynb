{
 "cells": [
  {
   "cell_type": "markdown",
   "metadata": {},
   "source": [
    "<h1> Report Dataset Almond Types</h1>"
   ]
  },
  {
   "cell_type": "markdown",
   "metadata": {},
   "source": [
    "<b>We are using the \"Clean_Almond.csv\" as a data Framework</b>\n",
    "<p>To see the Process and explanation of how and why it has been cleaned, with the logic behind it, please check out \"classification-tests.ipynb\"</p>"
   ]
  },
  {
   "cell_type": "markdown",
   "metadata": {},
   "source": [
    "<b>Aim</b>\n",
    "<ul>\n",
    "<li>Analyse the Dataset and check for ways to optimize</li>\n",
    "<li>Optimize towards a ML set that Classifies the Type of Almond</li>\n",
    "<li>For Analysation use:</li>\n",
    "    <ul>\n",
    "    <li>Ydata </li>\n",
    "    <li>dataprep (needs python 3.9)</li>\n",
    "    <li>AutoViz</li>\n",
    "    <li>SweetViz</li>\n",
    "    <li>Phik-Matrix</li>\n",
    "\n",
    "</ul>\n",
    "<li>To Answer the following Questions</li>\n",
    "    <ol>\n",
    "    <li>Is there Redundancy?</li>\n",
    "    <li>Problems in the Dataset, like missing Data, or duplicate Rows (Already nswered in the Data Cleaning)</li>\n",
    "    <li>Is there Overlapping Data and Noise?</li>\n",
    "    <li>Significant Outliers</li>\n",
    "    <li>Is the Target Variable Distribution Optimal?</li>\n",
    "    <li>Are the independent Variables balanced?</li>\n",
    "    <li>Any other out of the ordinary in your dataset that we should keep an eye on</li>\n",
    "</ol>\n",
    "</ul>"
   ]
  },
  {
   "cell_type": "markdown",
   "metadata": {},
   "source": [
    "<h2>1. Redundancy</h3>"
   ]
  },
  {
   "cell_type": "markdown",
   "metadata": {},
   "source": [
    "<h2>2. Problems</h2>\n",
    "<b>Please read the -tests.ipynb for this chapter, since thos points where analysed while preparing the data to be reportable</b>"
   ]
  },
  {
   "cell_type": "markdown",
   "metadata": {},
   "source": [
    "<h2>3. Overlapping and Noise</h2>"
   ]
  },
  {
   "cell_type": "markdown",
   "metadata": {},
   "source": [
    "<h2>4. Outliers</h2>"
   ]
  },
  {
   "cell_type": "markdown",
   "metadata": {},
   "source": [
    "<h2>5. Distribution and Balance of Variables</h2>"
   ]
  },
  {
   "cell_type": "markdown",
   "metadata": {},
   "source": [
    "<h2>Summary</h2>"
   ]
  }
 ],
 "metadata": {
  "language_info": {
   "name": "python"
  }
 },
 "nbformat": 4,
 "nbformat_minor": 2
}
