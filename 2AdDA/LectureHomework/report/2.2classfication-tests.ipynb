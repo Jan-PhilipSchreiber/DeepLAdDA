{
 "cells": [
  {
   "cell_type": "code",
   "execution_count": 31,
   "metadata": {},
   "outputs": [],
   "source": [
    "import pandas as pd\n",
    "import numpy as np\n",
    "#import keras\n",
    "#from keras import layers\n",
    "#from sklearn.preprocessing import OneHotEncoder, LabelEncoder\n",
    "#import tensorflow as tf"
   ]
  },
  {
   "cell_type": "code",
   "execution_count": 32,
   "metadata": {},
   "outputs": [],
   "source": [
    "df = pd.read_csv(\"Almond.csv\")\n",
    "df = df.drop(columns=['Unnamed: 0'])"
   ]
  },
  {
   "cell_type": "code",
   "execution_count": 40,
   "metadata": {},
   "outputs": [
    {
     "data": {
      "text/plain": [
       "0"
      ]
     },
     "execution_count": 40,
     "metadata": {},
     "output_type": "execute_result"
    }
   ],
   "source": [
    "df.duplicated().sum()"
   ]
  },
  {
   "cell_type": "markdown",
   "metadata": {},
   "source": [
    "<b>First check for Not usable data</b>"
   ]
  },
  {
   "cell_type": "code",
   "execution_count": 33,
   "metadata": {},
   "outputs": [
    {
     "data": {
      "text/plain": [
       "Index(['Length (major axis)', 'Width (minor axis)', 'Thickness (depth)',\n",
       "       'Area', 'Perimeter', 'Roundness', 'Solidity', 'Compactness',\n",
       "       'Aspect Ratio', 'Eccentricity', 'Extent', 'Convex hull(convex area)',\n",
       "       'Type'],\n",
       "      dtype='object')"
      ]
     },
     "execution_count": 33,
     "metadata": {},
     "output_type": "execute_result"
    }
   ],
   "source": [
    "df.columns"
   ]
  },
  {
   "cell_type": "markdown",
   "metadata": {},
   "source": [
    "<b>Other notes</b>\n",
    "<ul>\n",
    "<li>Classification for Type</li>\n",
    "<li>When Data is missing its 30% missing at randome</li>\n",
    "<li>This makes it look artificially removed</li>\n",
    "<li>To \"repair\" the missing data, we will use a lamda filling</li>\n",
    "<li> Lamda filling = making a distribution graph, and then filling the data accoriding to the distribution</li>\n",
    "<li>Later under or over filling can be used to balance the distribution</li>\n",
    "</ul>"
   ]
  },
  {
   "cell_type": "markdown",
   "metadata": {},
   "source": [
    "<h4>Missing handeling</h4>\n",
    "<b>First we rename all the Columns for simplicity and usability porpouses (spaces and brackets are bad coding practises)</b>"
   ]
  },
  {
   "cell_type": "code",
   "execution_count": 34,
   "metadata": {},
   "outputs": [],
   "source": [
    "df.rename(columns={'Length (major axis)': 'Length'}, inplace=True)\n",
    "df.rename(columns={'Width (minor axis)': 'Width'}, inplace=True)\n",
    "df.rename(columns={'Thickness (depth)': 'Thickness'}, inplace=True)\n",
    "df.rename(columns={'Aspect Ratio': 'Aspect_Ratio'}, inplace=True)\n",
    "df.rename(columns={'Convex hull(convex area)': 'Convex_Area'}, inplace=True)\n",
    "\n",
    "df['Length'] = df['Length'].apply(\n",
    "    lambda x: np.random.choice(df['Length'].dropna()) if pd.isna(x) else x\n",
    ")\n",
    "\n",
    "df['Width'] = df['Width'].apply(\n",
    "    lambda x: np.random.choice(df['Width'].dropna()) if pd.isna(x) else x\n",
    ")\n",
    "\n",
    "df['Thickness'] = df['Thickness'].apply(\n",
    "    lambda x: np.random.choice(df['Thickness'].dropna()) if pd.isna(x) else x\n",
    ")\n",
    "\n",
    "df['Roundness'] = df['Roundness'].apply(\n",
    "    lambda x: np.random.choice(df['Roundness'].dropna()) if pd.isna(x) else x\n",
    ")\n",
    "\n",
    "df['Aspect_Ratio'] = df['Aspect_Ratio'].apply(\n",
    "    lambda x: np.random.choice(df['Aspect_Ratio'].dropna()) if pd.isna(x) else x\n",
    ")\n",
    "\n",
    "df['Eccentricity'] = df['Eccentricity'].apply(\n",
    "    lambda x: np.random.choice(df['Eccentricity'].dropna()) if pd.isna(x) else x\n",
    ")"
   ]
  },
  {
   "cell_type": "code",
   "execution_count": 37,
   "metadata": {},
   "outputs": [
    {
     "data": {
      "text/html": [
       "<div>\n",
       "<style scoped>\n",
       "    .dataframe tbody tr th:only-of-type {\n",
       "        vertical-align: middle;\n",
       "    }\n",
       "\n",
       "    .dataframe tbody tr th {\n",
       "        vertical-align: top;\n",
       "    }\n",
       "\n",
       "    .dataframe thead th {\n",
       "        text-align: right;\n",
       "    }\n",
       "</style>\n",
       "<table border=\"1\" class=\"dataframe\">\n",
       "  <thead>\n",
       "    <tr style=\"text-align: right;\">\n",
       "      <th></th>\n",
       "      <th>Length</th>\n",
       "      <th>Width</th>\n",
       "      <th>Thickness</th>\n",
       "      <th>Area</th>\n",
       "      <th>Perimeter</th>\n",
       "      <th>Roundness</th>\n",
       "      <th>Solidity</th>\n",
       "      <th>Compactness</th>\n",
       "      <th>Aspect_Ratio</th>\n",
       "      <th>Eccentricity</th>\n",
       "      <th>Extent</th>\n",
       "      <th>Convex_Area</th>\n",
       "      <th>Type</th>\n",
       "    </tr>\n",
       "  </thead>\n",
       "  <tbody>\n",
       "    <tr>\n",
       "      <th>0</th>\n",
       "      <td>272.553253</td>\n",
       "      <td>227.940628</td>\n",
       "      <td>127.759132</td>\n",
       "      <td>22619.0</td>\n",
       "      <td>643.813269</td>\n",
       "      <td>0.460467</td>\n",
       "      <td>0.973384</td>\n",
       "      <td>1.458265</td>\n",
       "      <td>1.565795</td>\n",
       "      <td>0.798147</td>\n",
       "      <td>0.681193</td>\n",
       "      <td>23237.5</td>\n",
       "      <td>MAMRA</td>\n",
       "    </tr>\n",
       "    <tr>\n",
       "      <th>1</th>\n",
       "      <td>340.942719</td>\n",
       "      <td>234.188126</td>\n",
       "      <td>128.199509</td>\n",
       "      <td>23038.0</td>\n",
       "      <td>680.984841</td>\n",
       "      <td>0.451983</td>\n",
       "      <td>0.957304</td>\n",
       "      <td>1.601844</td>\n",
       "      <td>1.552992</td>\n",
       "      <td>0.755233</td>\n",
       "      <td>0.656353</td>\n",
       "      <td>24065.5</td>\n",
       "      <td>MAMRA</td>\n",
       "    </tr>\n",
       "    <tr>\n",
       "      <th>2</th>\n",
       "      <td>344.597992</td>\n",
       "      <td>229.418610</td>\n",
       "      <td>125.796547</td>\n",
       "      <td>22386.5</td>\n",
       "      <td>646.943212</td>\n",
       "      <td>0.178304</td>\n",
       "      <td>0.967270</td>\n",
       "      <td>1.487772</td>\n",
       "      <td>1.696236</td>\n",
       "      <td>0.845151</td>\n",
       "      <td>0.683620</td>\n",
       "      <td>23144.0</td>\n",
       "      <td>MAMRA</td>\n",
       "    </tr>\n",
       "    <tr>\n",
       "      <th>3</th>\n",
       "      <td>367.850677</td>\n",
       "      <td>232.763153</td>\n",
       "      <td>125.918808</td>\n",
       "      <td>22578.5</td>\n",
       "      <td>661.227483</td>\n",
       "      <td>0.547965</td>\n",
       "      <td>0.965512</td>\n",
       "      <td>1.540979</td>\n",
       "      <td>1.942538</td>\n",
       "      <td>0.806122</td>\n",
       "      <td>0.685360</td>\n",
       "      <td>23385.0</td>\n",
       "      <td>MAMRA</td>\n",
       "    </tr>\n",
       "    <tr>\n",
       "      <th>4</th>\n",
       "      <td>276.140106</td>\n",
       "      <td>230.150742</td>\n",
       "      <td>107.253448</td>\n",
       "      <td>19068.0</td>\n",
       "      <td>624.842706</td>\n",
       "      <td>0.430272</td>\n",
       "      <td>0.951450</td>\n",
       "      <td>1.629395</td>\n",
       "      <td>2.142503</td>\n",
       "      <td>0.844623</td>\n",
       "      <td>0.714800</td>\n",
       "      <td>20041.0</td>\n",
       "      <td>MAMRA</td>\n",
       "    </tr>\n",
       "  </tbody>\n",
       "</table>\n",
       "</div>"
      ],
      "text/plain": [
       "       Length       Width   Thickness     Area   Perimeter  Roundness  \\\n",
       "0  272.553253  227.940628  127.759132  22619.0  643.813269   0.460467   \n",
       "1  340.942719  234.188126  128.199509  23038.0  680.984841   0.451983   \n",
       "2  344.597992  229.418610  125.796547  22386.5  646.943212   0.178304   \n",
       "3  367.850677  232.763153  125.918808  22578.5  661.227483   0.547965   \n",
       "4  276.140106  230.150742  107.253448  19068.0  624.842706   0.430272   \n",
       "\n",
       "   Solidity  Compactness  Aspect_Ratio  Eccentricity    Extent  Convex_Area  \\\n",
       "0  0.973384     1.458265      1.565795      0.798147  0.681193      23237.5   \n",
       "1  0.957304     1.601844      1.552992      0.755233  0.656353      24065.5   \n",
       "2  0.967270     1.487772      1.696236      0.845151  0.683620      23144.0   \n",
       "3  0.965512     1.540979      1.942538      0.806122  0.685360      23385.0   \n",
       "4  0.951450     1.629395      2.142503      0.844623  0.714800      20041.0   \n",
       "\n",
       "    Type  \n",
       "0  MAMRA  \n",
       "1  MAMRA  \n",
       "2  MAMRA  \n",
       "3  MAMRA  \n",
       "4  MAMRA  "
      ]
     },
     "execution_count": 37,
     "metadata": {},
     "output_type": "execute_result"
    }
   ],
   "source": [
    "df.head()"
   ]
  },
  {
   "cell_type": "markdown",
   "metadata": {},
   "source": [
    "<h3> Preparing for Classification</h3>\n",
    "<p>There are 3 different Types SANORA, MAMRA and REGULAR </p>\n",
    "<b>Save them into a matrix, to give them a numerical value, like it was done in ANN_class_tune3.ipynb</b>"
   ]
  },
  {
   "cell_type": "code",
   "execution_count": 35,
   "metadata": {},
   "outputs": [],
   "source": [
    "\n",
    "# have only the target variable here (dependent variable)\n",
    "#y_temp = df['Type']\n",
    "\n",
    "# since we are doing classification, we have to process our target values with an encoder\n",
    "# and convert them into a categorical TensorFlow/Keras -format \n",
    "#le = LabelEncoder()\n",
    "#y_enc = le.fit_transform(y_temp)\n",
    "\n",
    "# Converting the label into a matrix form\n",
    "#y = tf.keras.utils.to_categorical(y_enc)\n",
    "\n",
    "\n",
    "#this code will not save in the csv and have to be repeated during the actual excercise"
   ]
  },
  {
   "cell_type": "code",
   "execution_count": 36,
   "metadata": {},
   "outputs": [
    {
     "data": {
      "text/plain": [
       "array([[1., 0., 0.],\n",
       "       [1., 0., 0.],\n",
       "       [1., 0., 0.],\n",
       "       ...,\n",
       "       [0., 0., 1.],\n",
       "       [0., 0., 1.],\n",
       "       [0., 0., 1.]])"
      ]
     },
     "execution_count": 36,
     "metadata": {},
     "output_type": "execute_result"
    }
   ],
   "source": [
    "y"
   ]
  },
  {
   "cell_type": "markdown",
   "metadata": {},
   "source": [
    "<h4>Converting and Encoding</h4>"
   ]
  },
  {
   "cell_type": "markdown",
   "metadata": {},
   "source": [
    "<b>The data is now ready and reportable</b>"
   ]
  },
  {
   "cell_type": "code",
   "execution_count": 41,
   "metadata": {},
   "outputs": [
    {
     "data": {
      "text/plain": [
       "0"
      ]
     },
     "execution_count": 41,
     "metadata": {},
     "output_type": "execute_result"
    }
   ],
   "source": [
    "df.duplicated().sum()"
   ]
  },
  {
   "cell_type": "code",
   "execution_count": 42,
   "metadata": {},
   "outputs": [
    {
     "data": {
      "text/plain": [
       "Length          0\n",
       "Width           0\n",
       "Thickness       0\n",
       "Area            0\n",
       "Perimeter       0\n",
       "Roundness       0\n",
       "Solidity        0\n",
       "Compactness     0\n",
       "Aspect_Ratio    0\n",
       "Eccentricity    0\n",
       "Extent          0\n",
       "Convex_Area     0\n",
       "Type            0\n",
       "dtype: int64"
      ]
     },
     "execution_count": 42,
     "metadata": {},
     "output_type": "execute_result"
    }
   ],
   "source": [
    "df.isna().sum()"
   ]
  },
  {
   "cell_type": "code",
   "execution_count": 39,
   "metadata": {},
   "outputs": [],
   "source": [
    "# Save the DataFrame to a CSV file\n",
    "# To put it into the Report.ipynb \n",
    "df.to_csv('Clean_Almond.csv', index=False)"
   ]
  }
 ],
 "metadata": {
  "kernelspec": {
   "display_name": ".venv",
   "language": "python",
   "name": "python3"
  },
  "language_info": {
   "codemirror_mode": {
    "name": "ipython",
    "version": 3
   },
   "file_extension": ".py",
   "mimetype": "text/x-python",
   "name": "python",
   "nbconvert_exporter": "python",
   "pygments_lexer": "ipython3",
   "version": "3.10.11"
  }
 },
 "nbformat": 4,
 "nbformat_minor": 2
}
