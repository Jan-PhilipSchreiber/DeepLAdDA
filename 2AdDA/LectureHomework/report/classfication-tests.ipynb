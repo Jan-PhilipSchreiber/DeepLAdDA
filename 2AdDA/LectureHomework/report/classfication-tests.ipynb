{
 "cells": [
  {
   "cell_type": "code",
   "execution_count": 2,
   "metadata": {},
   "outputs": [],
   "source": [
    "import pandas as pd\n",
    "import numpy as np"
   ]
  },
  {
   "cell_type": "code",
   "execution_count": 3,
   "metadata": {},
   "outputs": [],
   "source": [
    "df = pd.read_csv(\"GroceryDataset.csv\")"
   ]
  },
  {
   "cell_type": "markdown",
   "metadata": {},
   "source": [
    "<b>First check for Not usable data</b>"
   ]
  },
  {
   "cell_type": "code",
   "execution_count": 4,
   "metadata": {},
   "outputs": [
    {
     "data": {
      "text/html": [
       "<div>\n",
       "<style scoped>\n",
       "    .dataframe tbody tr th:only-of-type {\n",
       "        vertical-align: middle;\n",
       "    }\n",
       "\n",
       "    .dataframe tbody tr th {\n",
       "        vertical-align: top;\n",
       "    }\n",
       "\n",
       "    .dataframe thead th {\n",
       "        text-align: right;\n",
       "    }\n",
       "</style>\n",
       "<table border=\"1\" class=\"dataframe\">\n",
       "  <thead>\n",
       "    <tr style=\"text-align: right;\">\n",
       "      <th></th>\n",
       "      <th>Sub Category</th>\n",
       "      <th>Price</th>\n",
       "      <th>Discount</th>\n",
       "      <th>Rating</th>\n",
       "      <th>Title</th>\n",
       "      <th>Currency</th>\n",
       "      <th>Feature</th>\n",
       "      <th>Product Description</th>\n",
       "    </tr>\n",
       "  </thead>\n",
       "  <tbody>\n",
       "    <tr>\n",
       "      <th>0</th>\n",
       "      <td>Bakery &amp; Desserts</td>\n",
       "      <td>$56.99</td>\n",
       "      <td>No Discount</td>\n",
       "      <td>Rated 4.3 out of 5 stars based on 265 reviews.</td>\n",
       "      <td>David’s Cookies Mile High Peanut Butter Cake, ...</td>\n",
       "      <td>$</td>\n",
       "      <td>\"10\"\" Peanut Butter Cake\\nCertified Kosher OU-...</td>\n",
       "      <td>A cake the dessert epicure will die for!Our To...</td>\n",
       "    </tr>\n",
       "    <tr>\n",
       "      <th>1</th>\n",
       "      <td>Bakery &amp; Desserts</td>\n",
       "      <td>$159.99</td>\n",
       "      <td>No Discount</td>\n",
       "      <td>Rated 5 out of 5 stars based on 1 reviews.</td>\n",
       "      <td>The Cake Bake Shop 8\" Round Carrot Cake (16-22...</td>\n",
       "      <td>$</td>\n",
       "      <td>Spiced Carrot Cake with Cream Cheese Frosting ...</td>\n",
       "      <td>Due to the perishable nature of this item, ord...</td>\n",
       "    </tr>\n",
       "    <tr>\n",
       "      <th>2</th>\n",
       "      <td>Bakery &amp; Desserts</td>\n",
       "      <td>$44.99</td>\n",
       "      <td>No Discount</td>\n",
       "      <td>Rated 4.1 out of 5 stars based on 441 reviews.</td>\n",
       "      <td>St Michel Madeleine, Classic French Sponge Cak...</td>\n",
       "      <td>$</td>\n",
       "      <td>100 count\\nIndividually wrapped\\nMade in and I...</td>\n",
       "      <td>Moist and buttery sponge cakes with the tradit...</td>\n",
       "    </tr>\n",
       "    <tr>\n",
       "      <th>3</th>\n",
       "      <td>Bakery &amp; Desserts</td>\n",
       "      <td>$39.99</td>\n",
       "      <td>No Discount</td>\n",
       "      <td>Rated 4.7 out of 5 stars based on 9459 reviews.</td>\n",
       "      <td>David's Cookies Butter Pecan Meltaways 32 oz, ...</td>\n",
       "      <td>$</td>\n",
       "      <td>Butter Pecan Meltaways\\n32 oz 2-Pack\\nNo Prese...</td>\n",
       "      <td>These delectable butter pecan meltaways are th...</td>\n",
       "    </tr>\n",
       "    <tr>\n",
       "      <th>4</th>\n",
       "      <td>Bakery &amp; Desserts</td>\n",
       "      <td>$59.99</td>\n",
       "      <td>No Discount</td>\n",
       "      <td>Rated 4.5 out of 5 stars based on 758 reviews.</td>\n",
       "      <td>David’s Cookies Premier Chocolate Cake, 7.2 lb...</td>\n",
       "      <td>$</td>\n",
       "      <td>\"10\" Four Layer Chocolate Cake\\nCertified Kosh...</td>\n",
       "      <td>A cake the dessert epicure will die for!To the...</td>\n",
       "    </tr>\n",
       "  </tbody>\n",
       "</table>\n",
       "</div>"
      ],
      "text/plain": [
       "        Sub Category     Price     Discount  \\\n",
       "0  Bakery & Desserts   $56.99   No Discount   \n",
       "1  Bakery & Desserts  $159.99   No Discount   \n",
       "2  Bakery & Desserts   $44.99   No Discount   \n",
       "3  Bakery & Desserts   $39.99   No Discount   \n",
       "4  Bakery & Desserts   $59.99   No Discount   \n",
       "\n",
       "                                            Rating  \\\n",
       "0   Rated 4.3 out of 5 stars based on 265 reviews.   \n",
       "1       Rated 5 out of 5 stars based on 1 reviews.   \n",
       "2   Rated 4.1 out of 5 stars based on 441 reviews.   \n",
       "3  Rated 4.7 out of 5 stars based on 9459 reviews.   \n",
       "4   Rated 4.5 out of 5 stars based on 758 reviews.   \n",
       "\n",
       "                                               Title Currency  \\\n",
       "0  David’s Cookies Mile High Peanut Butter Cake, ...        $   \n",
       "1  The Cake Bake Shop 8\" Round Carrot Cake (16-22...        $   \n",
       "2  St Michel Madeleine, Classic French Sponge Cak...        $   \n",
       "3  David's Cookies Butter Pecan Meltaways 32 oz, ...        $   \n",
       "4  David’s Cookies Premier Chocolate Cake, 7.2 lb...        $   \n",
       "\n",
       "                                             Feature  \\\n",
       "0  \"10\"\" Peanut Butter Cake\\nCertified Kosher OU-...   \n",
       "1  Spiced Carrot Cake with Cream Cheese Frosting ...   \n",
       "2  100 count\\nIndividually wrapped\\nMade in and I...   \n",
       "3  Butter Pecan Meltaways\\n32 oz 2-Pack\\nNo Prese...   \n",
       "4  \"10\" Four Layer Chocolate Cake\\nCertified Kosh...   \n",
       "\n",
       "                                 Product Description  \n",
       "0  A cake the dessert epicure will die for!Our To...  \n",
       "1  Due to the perishable nature of this item, ord...  \n",
       "2  Moist and buttery sponge cakes with the tradit...  \n",
       "3  These delectable butter pecan meltaways are th...  \n",
       "4  A cake the dessert epicure will die for!To the...  "
      ]
     },
     "execution_count": 4,
     "metadata": {},
     "output_type": "execute_result"
    }
   ],
   "source": [
    "df.head()"
   ]
  },
  {
   "cell_type": "code",
   "execution_count": 5,
   "metadata": {},
   "outputs": [
    {
     "data": {
      "text/plain": [
       "Index(['Sub Category', 'Price', 'Discount', 'Rating', 'Title', 'Currency',\n",
       "       'Feature', 'Product Description'],\n",
       "      dtype='object')"
      ]
     },
     "execution_count": 5,
     "metadata": {},
     "output_type": "execute_result"
    }
   ],
   "source": [
    "df.columns"
   ]
  },
  {
   "cell_type": "markdown",
   "metadata": {},
   "source": [
    "<ul>\n",
    "<li>Title is useless metadata</li>\n",
    "<li>Feature is not usable</li>\n",
    "<li>Product description is unusable</li>\n",
    "</ul>"
   ]
  },
  {
   "cell_type": "markdown",
   "metadata": {},
   "source": [
    "<b>Other notes</b>\n",
    "<ul>\n",
    "<li>Classification for Sub Cathegory</li>\n",
    "<li>Currency will be used to convert the price and then be dropped</li>\n",
    "<li>Rating will get the rating extracted and lamda filled</li>\n",
    "<li>Discount will get the money amount extracted, adn no discount be set to 0</li>\n",
    "<li> 3 Columns where 2 are over 60% empty seem too litle to work with, dataset will prob be changed </li>\n",
    "</ul>"
   ]
  },
  {
   "cell_type": "markdown",
   "metadata": {},
   "source": [
    "<h4>Missing handeling</h4>"
   ]
  },
  {
   "cell_type": "markdown",
   "metadata": {},
   "source": [
    "<h4>Converting and Encoding</h4>"
   ]
  },
  {
   "cell_type": "markdown",
   "metadata": {},
   "source": [
    "<b>The data is now reportable</b>"
   ]
  },
  {
   "cell_type": "code",
   "execution_count": null,
   "metadata": {},
   "outputs": [],
   "source": [
    "# Save the DataFrame to a CSV file\n",
    "# To put it into the Report.ipynb \n",
    "df.to_csv('clean_Grocery.csv', index=False)"
   ]
  }
 ],
 "metadata": {
  "kernelspec": {
   "display_name": ".venv",
   "language": "python",
   "name": "python3"
  },
  "language_info": {
   "codemirror_mode": {
    "name": "ipython",
    "version": 3
   },
   "file_extension": ".py",
   "mimetype": "text/x-python",
   "name": "python",
   "nbconvert_exporter": "python",
   "pygments_lexer": "ipython3",
   "version": "3.10.11"
  }
 },
 "nbformat": 4,
 "nbformat_minor": 2
}
