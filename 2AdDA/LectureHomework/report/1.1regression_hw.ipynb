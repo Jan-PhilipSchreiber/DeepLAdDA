{
 "cells": [
  {
   "cell_type": "markdown",
   "metadata": {},
   "source": [
    "<h1> Report Regression Zillow Prices</h1>"
   ]
  },
  {
   "cell_type": "markdown",
   "metadata": {},
   "source": [
    "<b>We are using the \"Clean_Zillow.csv\" as a data Framework</b>\n",
    "<p>To see the Process and explanation of how and why it has been cleaned, with the logic behind it, please check out \"classification-tests.ipynb\"</p>"
   ]
  },
  {
   "cell_type": "markdown",
   "metadata": {},
   "source": [
    "<b>Goal</b>\n",
    "<ul>\n",
    "<li>Analyse the Dataset and check for ways to optimize</li>\n",
    "<li>Optimize towards a ML set that Classifies the Type of Almond</li>\n",
    "<li>For Analysation use:</li>\n",
    "    <ul>\n",
    "    <li>Ydata </li>\n",
    "    <li>dataprep (needs python 3.9)</li>\n",
    "    <li>AutoViz</li>\n",
    "    <li>SweetViz</li>\n",
    "    <li>Phik-Matrix</li>\n",
    "\n",
    "</ul>\n",
    "<li>To Answer the following Questions</li>\n",
    "    <ol>\n",
    "    <li>Is there Redundancy?</li>\n",
    "    <li>Problems in the Dataset, like missing Data, or duplicate Rows (Already nswered in the Data Cleaning)</li>\n",
    "    <li>Is there Overlapping Data and Noise?</li>\n",
    "    <li>Significant Outliers</li>\n",
    "    <li>Is the Target Variable Distribution Optimal?</li>\n",
    "    <li>Are the independent Variables balanced?</li>\n",
    "    <li>Any other out of the ordinary in your dataset that we should keep an eye on</li>\n",
    "</ol>\n",
    "</ul>"
   ]
  },
  {
   "cell_type": "markdown",
   "metadata": {},
   "source": [
    "<h4>Data Import</h4>\n",
    "<p>Since we are also doing some Manual Programing in this file we are going to import the Dataset and Libraries</p>"
   ]
  },
  {
   "cell_type": "code",
   "execution_count": null,
   "metadata": {},
   "outputs": [],
   "source": [
    "import pandas as pd\n",
    "import numpy as np\n",
    "import keras\n",
    "from keras import layers\n",
    "from sklearn.preprocessing import OneHotEncoder, LabelEncoder\n",
    "import tensorflow as tf"
   ]
  },
  {
   "cell_type": "code",
   "execution_count": null,
   "metadata": {},
   "outputs": [],
   "source": [
    "df = pd.read_csv(\"clean_Zillow.csv\")\n",
    "df.head()"
   ]
  },
  {
   "cell_type": "code",
   "execution_count": null,
   "metadata": {},
   "outputs": [],
   "source": [
    "# compute phik-matrix values\n",
    "phik_matrix = df.phik_matrix()\n",
    "\n",
    "phik_matrix"
   ]
  },
  {
   "cell_type": "markdown",
   "metadata": {},
   "source": [
    "<h2>1. Redundancy</h3>\n",
    "<b>A bit of 1 to 1 Redundancy was already removed during the Data preparation </b>"
   ]
  },
  {
   "cell_type": "markdown",
   "metadata": {},
   "source": [
    "<h2>2. Problems</h2>\n",
    "<b>Please read the -tests.ipynb for this chapter, since those points where analysed while preparing the data to be reportable</b>"
   ]
  },
  {
   "cell_type": "markdown",
   "metadata": {},
   "source": [
    "<h2>3. Overlapping and Noise</h2>"
   ]
  },
  {
   "cell_type": "markdown",
   "metadata": {},
   "source": [
    "<h2>4. Outliers</h2>"
   ]
  },
  {
   "cell_type": "code",
   "execution_count": null,
   "metadata": {},
   "outputs": [],
   "source": [
    "def find_outliers(col):\n",
    "    q1 = col.quantile(.25)\n",
    "    q3 = col.quantile(.80)\n",
    "    IQR = q3 - q1\n",
    "    ll = q1 - (1.5*IQR)\n",
    "    ul = q3 + (1.5*IQR)\n",
    "    upper_outliers = col[col > ul].index.tolist()\n",
    "    lower_outliers = col[col < ll].index.tolist()\n",
    "    bad_indices = list(set(upper_outliers + lower_outliers))\n",
    "    return(bad_indices)\n",
    "# get all bad indexes into a list\n",
    "bad_indexes = []\n",
    "for col in df.columns:\n",
    "    if df[col].dtype in [\"int64\",\"float64\"]:\n",
    "        bad_indexes.append(find_outliers(df[col]))\n",
    "\n",
    "bad_indexes = set(list(np.concatenate(bad_indexes).flat))\n",
    "\n",
    "# how many outlier rows we have\n",
    "print(len(bad_indexes))"
   ]
  },
  {
   "cell_type": "markdown",
   "metadata": {},
   "source": [
    "<h2>5. Distribution and Balance of Variables</h2>"
   ]
  },
  {
   "cell_type": "markdown",
   "metadata": {},
   "source": [
    "<h2>Summary</h2>"
   ]
  }
 ],
 "metadata": {
  "kernelspec": {
   "display_name": ".venv",
   "language": "python",
   "name": "python3"
  },
  "language_info": {
   "name": "python",
   "version": "3.10.11"
  }
 },
 "nbformat": 4,
 "nbformat_minor": 2
}
