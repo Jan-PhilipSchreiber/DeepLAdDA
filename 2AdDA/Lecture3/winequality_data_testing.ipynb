{
 "cells": [
  {
   "cell_type": "code",
   "execution_count": 1,
   "metadata": {},
   "outputs": [
    {
     "ename": "",
     "evalue": "",
     "output_type": "error",
     "traceback": [
      "\u001b[1;31mRunning cells with '.venv (Python 3.10.11)' requires the ipykernel package.\n",
      "\u001b[1;31mRun the following command to install 'ipykernel' into the Python environment. \n",
      "\u001b[1;31mCommand: 'c:/Users/janni/OneDrive/DeepLAdDA/.venv/Scripts/python.exe -m pip install ipykernel -U --force-reinstall'"
     ]
    }
   ],
   "source": [
    "import pandas as pd\n",
    "df = pd.read_csv(\"winequality-red.csv\")"
   ]
  },
  {
   "cell_type": "code",
   "execution_count": null,
   "metadata": {},
   "outputs": [],
   "source": [
    "df.head()"
   ]
  },
  {
   "cell_type": "code",
   "execution_count": null,
   "metadata": {},
   "outputs": [],
   "source": [
    "import numpy as np\n",
    "import pandas as pd\n",
    "from scipy import stats\n",
    "\n",
    "# load dataset\n",
    "df = pd.read_csv(\"winequality-red.csv\")\n",
    "variable = \"quality\"\n",
    "z_scores = stats.zscore(df[variable])\n",
    "\n",
    "# Define a threshold for outliers\n",
    "threshold = 3\n",
    "\n",
    "# Detect outliers\n",
    "outliers = df[np.abs(z_scores) > threshold]\n",
    "\n",
    "print(\"Detected outliers using Z-score:\")\n",
    "outliers"
   ]
  },
  {
   "cell_type": "code",
   "execution_count": null,
   "metadata": {},
   "outputs": [],
   "source": [
    "import pandas as pd\n",
    "import matplotlib.pyplot as plt\n",
    "import seaborn as sns\n",
    "\n",
    "# Plot setup\n",
    "plt.figure(figsize=(10, 6))\n",
    "\n",
    "# which variable we are visualizing, usually a variable \n",
    "# we detected the outliers from or target variable\n",
    "variable = \"quality\"\n",
    "\n",
    "# NOTE! outliers is the dataframe that contains only the outliers or noise items\n",
    "\n",
    "# Plot the full dataset (in blue, for example)\n",
    "sns.scatterplot(x=df.index, y=df[variable], color='blue', label='All Data')\n",
    "\n",
    "# Overlay the outliers (in red)\n",
    "sns.scatterplot(x=outliers.index, y=outliers[variable], color='red', label='Outliers/Noise')\n",
    "\n",
    "# Add title and labels\n",
    "plt.title(f'Comparison of All Data and Outliers for {variable}')\n",
    "plt.xlabel('Index')\n",
    "plt.ylabel('Variable Values')\n",
    "\n",
    "# Show legend\n",
    "plt.legend()\n",
    "\n",
    "# Display the "
   ]
  },
  {
   "cell_type": "code",
   "execution_count": 7,
   "metadata": {},
   "outputs": [],
   "source": [
    "df = pd.read_csv(\"winequality-red.csv\")"
   ]
  },
  {
   "cell_type": "code",
   "execution_count": null,
   "metadata": {},
   "outputs": [],
   "source": [
    "# boxplot version\n",
    "import seaborn as sns\n",
    "import matplotlib.pyplot as plt\n",
    "\n",
    "# Example box plot for alcohol content across wine quality levels\n",
    "plt.figure(figsize=(10, 6))\n",
    "sns.boxplot(x='quality', y='alcohol', data=df, palette='coolwarm')\n",
    "plt.title('Alcohol Content vs Wine Quality (With Outliers)')\n",
    "plt.xlabel('Wine Quality Level')\n",
    "plt.ylabel('Alcohol Content')\n",
    "plt.show()\n",
    "\n"
   ]
  },
  {
   "cell_type": "code",
   "execution_count": null,
   "metadata": {},
   "outputs": [],
   "source": [
    "df['quality'].value_counts()"
   ]
  },
  {
   "cell_type": "code",
   "execution_count": null,
   "metadata": {},
   "outputs": [],
   "source": [
    "\n",
    "\n",
    "# scatterplot version\n",
    "# Plot setup\n",
    "plt.figure(figsize=(10, 6))\n",
    "\n",
    "# Scatter plot with hue indicating quality level\n",
    "sns.scatterplot(x='volatile acidity', y='alcohol', hue='quality', data=df, palette='seismic', s=100, alpha=0.7)\n",
    "\n",
    "# Add title and labels\n",
    "plt.title('Overlap of Two Variables by Quality Level')\n",
    "plt.xlabel('volatile acidity')\n",
    "plt.ylabel('alcohol')\n",
    "\n",
    "# Display the plot\n",
    "plt.show()\n",
    "\n"
   ]
  },
  {
   "cell_type": "code",
   "execution_count": null,
   "metadata": {},
   "outputs": [],
   "source": []
  }
 ],
 "metadata": {
  "kernelspec": {
   "display_name": "Python 3",
   "language": "python",
   "name": "python3"
  },
  "language_info": {
   "codemirror_mode": {
    "name": "ipython",
    "version": 3
   },
   "file_extension": ".py",
   "mimetype": "text/x-python",
   "name": "python",
   "nbconvert_exporter": "python",
   "pygments_lexer": "ipython3",
   "version": "3.10.11"
  }
 },
 "nbformat": 4,
 "nbformat_minor": 2
}
